{
 "cells": [
  {
   "cell_type": "code",
   "execution_count": 1,
   "metadata": {},
   "outputs": [],
   "source": [
    "import tt\n",
    "import numpy as np"
   ]
  },
  {
   "cell_type": "code",
   "execution_count": 26,
   "metadata": {},
   "outputs": [],
   "source": [
    "x = tt.rand(3, d=5, r=3)\n",
    "\n",
    "x_cores = tt.core.vector.tensor.to_list(x)\n",
    "x_cores = [core.astype(np.float32) for core in x_cores]"
   ]
  },
  {
   "cell_type": "code",
   "execution_count": 27,
   "metadata": {},
   "outputs": [],
   "source": [
    "x_cores = tt.core.vector.tensor.to_list(x)\n",
    "x_cores = [core.astype(np.float32, copy=True) for core in x_cores]\n",
    "x_reconstruction = tt.core.vector.tensor.from_list(x_cores)"
   ]
  },
  {
   "cell_type": "code",
   "execution_count": 28,
   "metadata": {},
   "outputs": [],
   "source": [
    "def tt_dot(x, y):\n",
    "    x_cores = [cc.astype(np.float64) for cc in tt.core.vector.tensor.to_list(x)]\n",
    "    y_cores = [cc.astype(np.float64) for cc in tt.core.vector.tensor.to_list(y)]\n",
    "    \n",
    "    N = len(x_cores)\n",
    "    S = np.ones(1)\n",
    "    for i in range(N):\n",
    "        z = S @ y_cores[i].reshape(y_cores[i].shape[0], -1)\n",
    "        S = x_cores[i].reshape(-1, x_cores[i].shape[-1]).T @ z.reshape(-1, y_cores[i].shape[-1])\n",
    "    return S"
   ]
  },
  {
   "cell_type": "code",
   "execution_count": 29,
   "metadata": {},
   "outputs": [
    {
     "name": "stdout",
     "output_type": "stream",
     "text": [
      "Using ttpy\n",
      "norm^2:  9017.615707583465\n",
      "norm(x - x)^2:  4.0996395835718284e-27\n",
      "Reconstruction:  5.576705355392699e-06\n",
      "\n",
      "Using tt_dot\n",
      "norm:  9017.615707583465\n",
      "norm(x - x):  1.262177448353619e-29\n",
      "Reconstruction:  5.299599510571783e-06\n"
     ]
    }
   ],
   "source": [
    "print('Using ttpy')\n",
    "print('norm^2: ', x.norm()**2)\n",
    "print('norm(x - x)^2: ', (x - x).norm()**2)\n",
    "print('Reconstruction: ', (x - x_reconstruction).norm())\n",
    "print()\n",
    "\n",
    "print('Using tt_dot')\n",
    "print('norm: ', tt_dot(x, x)[0, 0])\n",
    "print('norm(x - x): ', tt_dot(x - x, x - x)[0, 0])\n",
    "print('Reconstruction: ', np.sqrt(tt_dot(x - x_reconstruction, x - x_reconstruction))[0, 0])"
   ]
  },
  {
   "cell_type": "code",
   "execution_count": null,
   "metadata": {},
   "outputs": [],
   "source": []
  }
 ],
 "metadata": {
  "kernelspec": {
   "display_name": "Python 3",
   "language": "python",
   "name": "python3"
  },
  "language_info": {
   "codemirror_mode": {
    "name": "ipython",
    "version": 3
   },
   "file_extension": ".py",
   "mimetype": "text/x-python",
   "name": "python",
   "nbconvert_exporter": "python",
   "pygments_lexer": "ipython3",
   "version": "3.6.5"
  }
 },
 "nbformat": 4,
 "nbformat_minor": 2
}
